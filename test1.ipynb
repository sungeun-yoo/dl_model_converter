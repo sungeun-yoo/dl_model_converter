{
  "nbformat": 4,
  "nbformat_minor": 0,
  "metadata": {
    "colab": {
      "name": "Untitled0.ipynb",
      "provenance": [],
      "toc_visible": true,
      "authorship_tag": "ABX9TyO9L17VFq0J5vBPo85xu6ts",
      "include_colab_link": true
    },
    "kernelspec": {
      "name": "python3",
      "display_name": "Python 3"
    },
    "language_info": {
      "name": "python"
    }
  },
  "cells": [
    {
      "cell_type": "markdown",
      "metadata": {
        "id": "view-in-github",
        "colab_type": "text"
      },
      "source": [
        "<a href=\"https://colab.research.google.com/github/sungeun-yoo/dl_model_converter/blob/main/test1.ipynb\" target=\"_parent\"><img src=\"https://colab.research.google.com/assets/colab-badge.svg\" alt=\"Open In Colab\"/></a>"
      ]
    },
    {
      "cell_type": "markdown",
      "metadata": {
        "id": "NUIHbJXxoofN"
      },
      "source": [
        "시작"
      ]
    },
    {
      "cell_type": "markdown",
      "metadata": {
        "id": "DCNWgR8Oour2"
      },
      "source": [
        "# 새 섹션"
      ]
    },
    {
      "cell_type": "code",
      "metadata": {
        "id": "0-cVF07MoHtl"
      },
      "source": [
        "import numpy as np\n",
        "!pip install tensorflow==2.6.0\n",
        "import tensorflow as tf\n",
        "import sys\n",
        "\n",
        "!pip install onnx==1.10.1\n",
        "import onnx"
      ],
      "execution_count": null,
      "outputs": []
    }
  ]
}